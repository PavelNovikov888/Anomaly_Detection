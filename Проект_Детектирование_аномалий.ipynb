{
  "cells": [
    {
      "cell_type": "markdown",
      "metadata": {
        "id": "view-in-github",
        "colab_type": "text"
      },
      "source": [
        "<a href=\"https://colab.research.google.com/github/PavelNovikov888/Anomaly_Detection/blob/master/%D0%9F%D1%80%D0%BE%D0%B5%D0%BA%D1%82_%D0%94%D0%B5%D1%82%D0%B5%D0%BA%D1%82%D0%B8%D1%80%D0%BE%D0%B2%D0%B0%D0%BD%D0%B8%D0%B5_%D0%B0%D0%BD%D0%BE%D0%BC%D0%B0%D0%BB%D0%B8%D0%B9.ipynb\" target=\"_parent\"><img src=\"https://colab.research.google.com/assets/colab-badge.svg\" alt=\"Open In Colab\"/></a>"
      ]
    },
    {
      "cell_type": "code",
      "execution_count": 1,
      "metadata": {
        "id": "wd5-i2woFwBO"
      },
      "outputs": [],
      "source": [
        "!pip install undetected-chromedriver --quiet\n",
        "!pip install selenium --quiet"
      ]
    },
    {
      "cell_type": "markdown",
      "metadata": {
        "id": "MvpdS5at_cL3"
      },
      "source": [
        "# ПОСТАНОВКА ЗАДАЧИ\n",
        "\n",
        "Оценить, есть ли влияние от рекламы чая «Ахмад» в передаче «Что? Где? Когда?» на его продажи.\n",
        "* Произведён парсинг данных о датах проведения передачи «Что? Где? Когда?»\n",
        "* Построена модель, предсказывающая значение временного ряда продаж. Показано, что нет положительного misprediction.\n",
        "* Построен boxplot, указано, что нет аномалии роста продаж после передачи.\n",
        "* Сделана попытка кластеризации точек продаж (по всем трём вендорам).\n",
        "\n",
        "Нужны даты проведения передач. Откуда их взять?\n",
        "Стоит начать с статистических методов.\n",
        "А если попробовать как-то предсказать продажи?\n",
        "Давайте попробуем кластеризовать!"
      ]
    },
    {
      "cell_type": "code",
      "execution_count": 125,
      "metadata": {
        "id": "fFcEVtuE_FEn"
      },
      "outputs": [],
      "source": [
        "# Импортируем необходимые библиотеки\n",
        "import pandas as pd\n",
        "import numpy as np\n",
        "\n",
        "import matplotlib\n",
        "import seaborn\n",
        "import matplotlib.dates as md\n",
        "from matplotlib import pyplot as plt\n",
        "import matplotlib.lines as mlines\n",
        "\n",
        "from statsmodels.tsa.seasonal import seasonal_decompose\n",
        "\n",
        "from sklearn import preprocessing\n",
        "from sklearn.decomposition import PCA\n",
        "from sklearn.cluster import KMeans\n",
        "from sklearn.covariance import EllipticEnvelope\n",
        "from sklearn.ensemble import IsolationForest\n",
        "from sklearn.svm import OneClassSVM\n",
        "\n",
        "#используем версию webdriver, которая необнаруживается анти-ботами\n",
        "import undetected_chromedriver as webdriver\n",
        "import time\n",
        "\n",
        "from selenium import webdriver\n",
        "from selenium.webdriver.support.ui import WebDriverWait\n",
        "from selenium.webdriver.support import expected_conditions as EC\n",
        "from selenium.webdriver.common.keys import Keys\n",
        "from selenium.webdriver.common.by import By\n",
        "\n",
        "options = webdriver.ChromeOptions()\n",
        "options.add_argument('--headless')\n",
        "options.add_argument('--no-sandbox')\n",
        "options.add_argument('--disable-dev-shm-usage')\n",
        "\n",
        "# Start the Chrome driver\n",
        "driver = webdriver.Chrome(options=options)"
      ]
    },
    {
      "cell_type": "code",
      "execution_count": 3,
      "metadata": {
        "id": "dU7TDKvABGon"
      },
      "outputs": [],
      "source": [
        "#В колабе импортируем все необходимые библиотеки\n",
        "from pydrive.auth import GoogleAuth\n",
        "from pydrive.drive import GoogleDrive\n",
        "from google.colab import auth\n",
        "from oauth2client.client import GoogleCredentials\n",
        "\n",
        "#Привязываем гуглдиск к колабу\n",
        "auth.authenticate_user()\n",
        "gauth = GoogleAuth()\n",
        "gauth.credentials = GoogleCredentials.get_application_default()\n",
        "drive = GoogleDrive(gauth)\n",
        "\n",
        "# Загружаем файл в колаб\n",
        "download = drive.CreateFile({\"id\": \"1i77jXo_zDgkFr0knVkRjRLO8_MGptfBL\"})\n",
        "# https://drive.google.com/file/d/1i77jXo_zDgkFr0knVkRjRLO8_MGptfBL/view?usp=sharing\n",
        "download.GetContentFile(\"tea_demand.zip\")"
      ]
    },
    {
      "cell_type": "code",
      "execution_count": 4,
      "metadata": {
        "id": "USI6eGCjBsC6",
        "colab": {
          "base_uri": "https://localhost:8080/"
        },
        "outputId": "7addd145-ecfc-47ed-8e8e-b397b06919d8"
      },
      "outputs": [
        {
          "output_type": "execute_result",
          "data": {
            "text/plain": [
              "5152    153\n",
              "178     153\n",
              "29      153\n",
              "Name: brand_id, dtype: int64"
            ]
          },
          "metadata": {},
          "execution_count": 4
        }
      ],
      "source": [
        "# загрузим данные для анализа отказа системы регулирования температуры в помещении\n",
        "df = pd.read_csv(\"tea_demand.zip\", sep= '\\t')\n",
        "# ipton — 29; ahmad — 178; may — 5152\n",
        "df['brand_id'].value_counts()"
      ]
    },
    {
      "cell_type": "code",
      "execution_count": 5,
      "metadata": {
        "id": "kWnbEun_DN7E",
        "colab": {
          "base_uri": "https://localhost:8080/"
        },
        "outputId": "62ee41f0-556c-418c-9963-31fd6073b43f"
      },
      "outputs": [
        {
          "output_type": "stream",
          "name": "stdout",
          "text": [
            "<class 'pandas.core.frame.DataFrame'>\n",
            "RangeIndex: 459 entries, 0 to 458\n",
            "Data columns (total 3 columns):\n",
            " #   Column          Non-Null Count  Dtype \n",
            "---  ------          --------------  ----- \n",
            " 0   brand_id        459 non-null    int64 \n",
            " 1   date            459 non-null    object\n",
            " 2   receipts_count  459 non-null    int64 \n",
            "dtypes: int64(2), object(1)\n",
            "memory usage: 10.9+ KB\n"
          ]
        }
      ],
      "source": [
        "df.info()"
      ]
    },
    {
      "cell_type": "code",
      "execution_count": 6,
      "metadata": {
        "id": "G_P2YgqrEdCG"
      },
      "outputs": [],
      "source": [
        "df['date'] = pd.to_datetime(df['date'])"
      ]
    },
    {
      "cell_type": "code",
      "execution_count": 7,
      "metadata": {
        "id": "yWOEc_y9IfGd",
        "colab": {
          "base_uri": "https://localhost:8080/",
          "height": 206
        },
        "outputId": "47183b4e-b2d0-4ccb-cbcb-0ce25bbfb961"
      },
      "outputs": [
        {
          "output_type": "execute_result",
          "data": {
            "text/plain": [
              "   brand_id       date  receipts_count\n",
              "0      5152 2016-07-01              98\n",
              "1       178 2016-07-01             234\n",
              "2        29 2016-07-01             622\n",
              "3      5152 2016-07-02              87\n",
              "4       178 2016-07-02             185"
            ],
            "text/html": [
              "\n",
              "  <div id=\"df-2b79ff75-9a7f-435a-b17a-9c0357a48f9a\" class=\"colab-df-container\">\n",
              "    <div>\n",
              "<style scoped>\n",
              "    .dataframe tbody tr th:only-of-type {\n",
              "        vertical-align: middle;\n",
              "    }\n",
              "\n",
              "    .dataframe tbody tr th {\n",
              "        vertical-align: top;\n",
              "    }\n",
              "\n",
              "    .dataframe thead th {\n",
              "        text-align: right;\n",
              "    }\n",
              "</style>\n",
              "<table border=\"1\" class=\"dataframe\">\n",
              "  <thead>\n",
              "    <tr style=\"text-align: right;\">\n",
              "      <th></th>\n",
              "      <th>brand_id</th>\n",
              "      <th>date</th>\n",
              "      <th>receipts_count</th>\n",
              "    </tr>\n",
              "  </thead>\n",
              "  <tbody>\n",
              "    <tr>\n",
              "      <th>0</th>\n",
              "      <td>5152</td>\n",
              "      <td>2016-07-01</td>\n",
              "      <td>98</td>\n",
              "    </tr>\n",
              "    <tr>\n",
              "      <th>1</th>\n",
              "      <td>178</td>\n",
              "      <td>2016-07-01</td>\n",
              "      <td>234</td>\n",
              "    </tr>\n",
              "    <tr>\n",
              "      <th>2</th>\n",
              "      <td>29</td>\n",
              "      <td>2016-07-01</td>\n",
              "      <td>622</td>\n",
              "    </tr>\n",
              "    <tr>\n",
              "      <th>3</th>\n",
              "      <td>5152</td>\n",
              "      <td>2016-07-02</td>\n",
              "      <td>87</td>\n",
              "    </tr>\n",
              "    <tr>\n",
              "      <th>4</th>\n",
              "      <td>178</td>\n",
              "      <td>2016-07-02</td>\n",
              "      <td>185</td>\n",
              "    </tr>\n",
              "  </tbody>\n",
              "</table>\n",
              "</div>\n",
              "    <div class=\"colab-df-buttons\">\n",
              "\n",
              "  <div class=\"colab-df-container\">\n",
              "    <button class=\"colab-df-convert\" onclick=\"convertToInteractive('df-2b79ff75-9a7f-435a-b17a-9c0357a48f9a')\"\n",
              "            title=\"Convert this dataframe to an interactive table.\"\n",
              "            style=\"display:none;\">\n",
              "\n",
              "  <svg xmlns=\"http://www.w3.org/2000/svg\" height=\"24px\" viewBox=\"0 -960 960 960\">\n",
              "    <path d=\"M120-120v-720h720v720H120Zm60-500h600v-160H180v160Zm220 220h160v-160H400v160Zm0 220h160v-160H400v160ZM180-400h160v-160H180v160Zm440 0h160v-160H620v160ZM180-180h160v-160H180v160Zm440 0h160v-160H620v160Z\"/>\n",
              "  </svg>\n",
              "    </button>\n",
              "\n",
              "  <style>\n",
              "    .colab-df-container {\n",
              "      display:flex;\n",
              "      gap: 12px;\n",
              "    }\n",
              "\n",
              "    .colab-df-convert {\n",
              "      background-color: #E8F0FE;\n",
              "      border: none;\n",
              "      border-radius: 50%;\n",
              "      cursor: pointer;\n",
              "      display: none;\n",
              "      fill: #1967D2;\n",
              "      height: 32px;\n",
              "      padding: 0 0 0 0;\n",
              "      width: 32px;\n",
              "    }\n",
              "\n",
              "    .colab-df-convert:hover {\n",
              "      background-color: #E2EBFA;\n",
              "      box-shadow: 0px 1px 2px rgba(60, 64, 67, 0.3), 0px 1px 3px 1px rgba(60, 64, 67, 0.15);\n",
              "      fill: #174EA6;\n",
              "    }\n",
              "\n",
              "    .colab-df-buttons div {\n",
              "      margin-bottom: 4px;\n",
              "    }\n",
              "\n",
              "    [theme=dark] .colab-df-convert {\n",
              "      background-color: #3B4455;\n",
              "      fill: #D2E3FC;\n",
              "    }\n",
              "\n",
              "    [theme=dark] .colab-df-convert:hover {\n",
              "      background-color: #434B5C;\n",
              "      box-shadow: 0px 1px 3px 1px rgba(0, 0, 0, 0.15);\n",
              "      filter: drop-shadow(0px 1px 2px rgba(0, 0, 0, 0.3));\n",
              "      fill: #FFFFFF;\n",
              "    }\n",
              "  </style>\n",
              "\n",
              "    <script>\n",
              "      const buttonEl =\n",
              "        document.querySelector('#df-2b79ff75-9a7f-435a-b17a-9c0357a48f9a button.colab-df-convert');\n",
              "      buttonEl.style.display =\n",
              "        google.colab.kernel.accessAllowed ? 'block' : 'none';\n",
              "\n",
              "      async function convertToInteractive(key) {\n",
              "        const element = document.querySelector('#df-2b79ff75-9a7f-435a-b17a-9c0357a48f9a');\n",
              "        const dataTable =\n",
              "          await google.colab.kernel.invokeFunction('convertToInteractive',\n",
              "                                                    [key], {});\n",
              "        if (!dataTable) return;\n",
              "\n",
              "        const docLinkHtml = 'Like what you see? Visit the ' +\n",
              "          '<a target=\"_blank\" href=https://colab.research.google.com/notebooks/data_table.ipynb>data table notebook</a>'\n",
              "          + ' to learn more about interactive tables.';\n",
              "        element.innerHTML = '';\n",
              "        dataTable['output_type'] = 'display_data';\n",
              "        await google.colab.output.renderOutput(dataTable, element);\n",
              "        const docLink = document.createElement('div');\n",
              "        docLink.innerHTML = docLinkHtml;\n",
              "        element.appendChild(docLink);\n",
              "      }\n",
              "    </script>\n",
              "  </div>\n",
              "\n",
              "\n",
              "<div id=\"df-abff0ec5-6f73-4e5f-a975-17eca0344156\">\n",
              "  <button class=\"colab-df-quickchart\" onclick=\"quickchart('df-abff0ec5-6f73-4e5f-a975-17eca0344156')\"\n",
              "            title=\"Suggest charts.\"\n",
              "            style=\"display:none;\">\n",
              "\n",
              "<svg xmlns=\"http://www.w3.org/2000/svg\" height=\"24px\"viewBox=\"0 0 24 24\"\n",
              "     width=\"24px\">\n",
              "    <g>\n",
              "        <path d=\"M19 3H5c-1.1 0-2 .9-2 2v14c0 1.1.9 2 2 2h14c1.1 0 2-.9 2-2V5c0-1.1-.9-2-2-2zM9 17H7v-7h2v7zm4 0h-2V7h2v10zm4 0h-2v-4h2v4z\"/>\n",
              "    </g>\n",
              "</svg>\n",
              "  </button>\n",
              "\n",
              "<style>\n",
              "  .colab-df-quickchart {\n",
              "      --bg-color: #E8F0FE;\n",
              "      --fill-color: #1967D2;\n",
              "      --hover-bg-color: #E2EBFA;\n",
              "      --hover-fill-color: #174EA6;\n",
              "      --disabled-fill-color: #AAA;\n",
              "      --disabled-bg-color: #DDD;\n",
              "  }\n",
              "\n",
              "  [theme=dark] .colab-df-quickchart {\n",
              "      --bg-color: #3B4455;\n",
              "      --fill-color: #D2E3FC;\n",
              "      --hover-bg-color: #434B5C;\n",
              "      --hover-fill-color: #FFFFFF;\n",
              "      --disabled-bg-color: #3B4455;\n",
              "      --disabled-fill-color: #666;\n",
              "  }\n",
              "\n",
              "  .colab-df-quickchart {\n",
              "    background-color: var(--bg-color);\n",
              "    border: none;\n",
              "    border-radius: 50%;\n",
              "    cursor: pointer;\n",
              "    display: none;\n",
              "    fill: var(--fill-color);\n",
              "    height: 32px;\n",
              "    padding: 0;\n",
              "    width: 32px;\n",
              "  }\n",
              "\n",
              "  .colab-df-quickchart:hover {\n",
              "    background-color: var(--hover-bg-color);\n",
              "    box-shadow: 0 1px 2px rgba(60, 64, 67, 0.3), 0 1px 3px 1px rgba(60, 64, 67, 0.15);\n",
              "    fill: var(--button-hover-fill-color);\n",
              "  }\n",
              "\n",
              "  .colab-df-quickchart-complete:disabled,\n",
              "  .colab-df-quickchart-complete:disabled:hover {\n",
              "    background-color: var(--disabled-bg-color);\n",
              "    fill: var(--disabled-fill-color);\n",
              "    box-shadow: none;\n",
              "  }\n",
              "\n",
              "  .colab-df-spinner {\n",
              "    border: 2px solid var(--fill-color);\n",
              "    border-color: transparent;\n",
              "    border-bottom-color: var(--fill-color);\n",
              "    animation:\n",
              "      spin 1s steps(1) infinite;\n",
              "  }\n",
              "\n",
              "  @keyframes spin {\n",
              "    0% {\n",
              "      border-color: transparent;\n",
              "      border-bottom-color: var(--fill-color);\n",
              "      border-left-color: var(--fill-color);\n",
              "    }\n",
              "    20% {\n",
              "      border-color: transparent;\n",
              "      border-left-color: var(--fill-color);\n",
              "      border-top-color: var(--fill-color);\n",
              "    }\n",
              "    30% {\n",
              "      border-color: transparent;\n",
              "      border-left-color: var(--fill-color);\n",
              "      border-top-color: var(--fill-color);\n",
              "      border-right-color: var(--fill-color);\n",
              "    }\n",
              "    40% {\n",
              "      border-color: transparent;\n",
              "      border-right-color: var(--fill-color);\n",
              "      border-top-color: var(--fill-color);\n",
              "    }\n",
              "    60% {\n",
              "      border-color: transparent;\n",
              "      border-right-color: var(--fill-color);\n",
              "    }\n",
              "    80% {\n",
              "      border-color: transparent;\n",
              "      border-right-color: var(--fill-color);\n",
              "      border-bottom-color: var(--fill-color);\n",
              "    }\n",
              "    90% {\n",
              "      border-color: transparent;\n",
              "      border-bottom-color: var(--fill-color);\n",
              "    }\n",
              "  }\n",
              "</style>\n",
              "\n",
              "  <script>\n",
              "    async function quickchart(key) {\n",
              "      const quickchartButtonEl =\n",
              "        document.querySelector('#' + key + ' button');\n",
              "      quickchartButtonEl.disabled = true;  // To prevent multiple clicks.\n",
              "      quickchartButtonEl.classList.add('colab-df-spinner');\n",
              "      try {\n",
              "        const charts = await google.colab.kernel.invokeFunction(\n",
              "            'suggestCharts', [key], {});\n",
              "      } catch (error) {\n",
              "        console.error('Error during call to suggestCharts:', error);\n",
              "      }\n",
              "      quickchartButtonEl.classList.remove('colab-df-spinner');\n",
              "      quickchartButtonEl.classList.add('colab-df-quickchart-complete');\n",
              "    }\n",
              "    (() => {\n",
              "      let quickchartButtonEl =\n",
              "        document.querySelector('#df-abff0ec5-6f73-4e5f-a975-17eca0344156 button');\n",
              "      quickchartButtonEl.style.display =\n",
              "        google.colab.kernel.accessAllowed ? 'block' : 'none';\n",
              "    })();\n",
              "  </script>\n",
              "</div>\n",
              "    </div>\n",
              "  </div>\n"
            ]
          },
          "metadata": {},
          "execution_count": 7
        }
      ],
      "source": [
        "df.head()"
      ]
    },
    {
      "cell_type": "code",
      "execution_count": 8,
      "metadata": {
        "id": "6-uZ7H8LIsnN",
        "colab": {
          "base_uri": "https://localhost:8080/"
        },
        "outputId": "c06cd0f0-2b44-4c6e-f3a2-33f0da61e30c"
      },
      "outputs": [
        {
          "output_type": "execute_result",
          "data": {
            "text/plain": [
              "brand_id            3\n",
              "date              153\n",
              "receipts_count    313\n",
              "dtype: int64"
            ]
          },
          "metadata": {},
          "execution_count": 8
        }
      ],
      "source": [
        "df.nunique()"
      ]
    },
    {
      "cell_type": "code",
      "execution_count": 9,
      "metadata": {
        "id": "6B0WwUCsEDUC",
        "colab": {
          "base_uri": "https://localhost:8080/"
        },
        "outputId": "1de39f54-2a2e-4319-f137-52f6bc023c7f"
      },
      "outputs": [
        {
          "output_type": "stream",
          "name": "stdout",
          "text": [
            "          brand_id                           date  receipts_count\n",
            "count   459.000000                            459      459.000000\n",
            "mean   1786.333333  2016-09-15 00:00:00.000000256      362.209150\n",
            "min      29.000000            2016-07-01 00:00:00       73.000000\n",
            "25%      29.000000            2016-08-08 00:00:00      186.500000\n",
            "50%     178.000000            2016-09-15 00:00:00      339.000000\n",
            "75%    5152.000000            2016-10-23 00:00:00      529.000000\n",
            "max    5152.000000            2016-11-30 00:00:00     1301.000000\n",
            "std    2383.260539                            NaN      220.350485\n"
          ]
        }
      ],
      "source": [
        "print(df.describe(datetime_is_numeric=True))"
      ]
    },
    {
      "cell_type": "markdown",
      "metadata": {
        "id": "gw-vZ7ghOQnj"
      },
      "source": [
        "# Парсинг"
      ]
    },
    {
      "cell_type": "code",
      "execution_count": 10,
      "metadata": {
        "id": "os-JYunpF-kV",
        "colab": {
          "base_uri": "https://localhost:8080/"
        },
        "outputId": "8039bc13-037e-4155-f6a8-aef504f6e505"
      },
      "outputs": [
        {
          "output_type": "stream",
          "name": "stdout",
          "text": [
            "Даты выхода сериалов и аниме — Торамп\n",
            "\n"
          ]
        }
      ],
      "source": [
        "# Navigate to a website\n",
        "driver.get('https://www.toramp.com/')\n",
        "#ожидаем полной загрузки сайта\n",
        "driver.set_page_load_timeout(3)\n",
        "\n",
        "#выведем на экран название теста\n",
        "title = driver.title\n",
        "print(title, end =\"\\n\\n\")"
      ]
    },
    {
      "cell_type": "code",
      "execution_count": 11,
      "metadata": {
        "id": "BaxmKuhZGAVj",
        "colab": {
          "base_uri": "https://localhost:8080/"
        },
        "outputId": "d6596147-334a-4fa0-aa7d-3e8f0f6d0369"
      },
      "outputs": [
        {
          "output_type": "stream",
          "name": "stdout",
          "text": [
            "Результаты поиска по 'Что Где Когда'\n",
            "\n"
          ]
        }
      ],
      "source": [
        "element = driver.find_element(By.XPATH, \"/html/body/div/nav/div[1]/div[2]/div[1]/input\")\n",
        "element.send_keys(\"Что Где Когда\")\n",
        "time.sleep(5)\n",
        "element.send_keys(Keys.ENTER)\n",
        "\n",
        "search_title = driver.find_element(By.CLASS_NAME, 'search_results_on_enter_text').text\n",
        "print(search_title, end =\"\\n\\n\")"
      ]
    },
    {
      "cell_type": "code",
      "execution_count": 12,
      "metadata": {
        "id": "B0ztMeCEGH-5",
        "colab": {
          "base_uri": "https://localhost:8080/"
        },
        "outputId": "242165d0-cef0-499f-9385-eafd08a9c9e6"
      },
      "outputs": [
        {
          "output_type": "stream",
          "name": "stdout",
          "text": [
            "Что? Где? Когда? (1975 — ...)\n",
            "сериал\n",
            "\n"
          ]
        }
      ],
      "source": [
        "select = driver.find_element(By.XPATH, '/html/body/div/main/div/section/ul/li[1]/div/div/div[1]/div[1]/a')\n",
        "select.send_keys(Keys.ENTER)\n",
        "time.sleep(3)\n",
        "test = driver.find_element(By.TAG_NAME, 'h1').text\n",
        "print(test, end =\"\\n\\n\")"
      ]
    },
    {
      "cell_type": "code",
      "execution_count": 13,
      "metadata": {
        "id": "ILND6uO6GLzi",
        "colab": {
          "base_uri": "https://localhost:8080/"
        },
        "outputId": "ed341c2c-d8a8-4a6a-9d97-c3922b9ac4c7"
      },
      "outputs": [
        {
          "output_type": "stream",
          "name": "stdout",
          "text": [
            "<class 'pandas.core.frame.DataFrame'>\n",
            "RangeIndex: 589 entries, 0 to 588\n",
            "Data columns (total 1 columns):\n",
            " #   Column  Non-Null Count  Dtype         \n",
            "---  ------  --------------  -----         \n",
            " 0   date    589 non-null    datetime64[ns]\n",
            "dtypes: datetime64[ns](1)\n",
            "memory usage: 4.7 KB\n"
          ]
        }
      ],
      "source": [
        "all_options = driver.find_elements(By.TAG_NAME, \"time\")\n",
        "dates = []\n",
        "for option in all_options:\n",
        "  dates.append(option.get_attribute(\"datetime\"))\n",
        "\n",
        "data_tv_air = pd.DataFrame(dates, columns = ['date'])\n",
        "data_tv_air['date'] = pd.to_datetime(data_tv_air['date'])\n",
        "data_tv_air.info()"
      ]
    },
    {
      "cell_type": "code",
      "execution_count": 14,
      "metadata": {
        "id": "PjZUsKwsGVe4",
        "colab": {
          "base_uri": "https://localhost:8080/",
          "height": 144
        },
        "outputId": "20b0c386-e60b-4af5-d7c5-d50d8b763c06"
      },
      "outputs": [
        {
          "output_type": "execute_result",
          "data": {
            "text/plain": [
              "        date\n",
              "0 2023-03-19\n",
              "1 2023-03-26\n",
              "2 2023-04-02"
            ],
            "text/html": [
              "\n",
              "  <div id=\"df-29173996-8bec-49a0-8f31-b0a165976208\" class=\"colab-df-container\">\n",
              "    <div>\n",
              "<style scoped>\n",
              "    .dataframe tbody tr th:only-of-type {\n",
              "        vertical-align: middle;\n",
              "    }\n",
              "\n",
              "    .dataframe tbody tr th {\n",
              "        vertical-align: top;\n",
              "    }\n",
              "\n",
              "    .dataframe thead th {\n",
              "        text-align: right;\n",
              "    }\n",
              "</style>\n",
              "<table border=\"1\" class=\"dataframe\">\n",
              "  <thead>\n",
              "    <tr style=\"text-align: right;\">\n",
              "      <th></th>\n",
              "      <th>date</th>\n",
              "    </tr>\n",
              "  </thead>\n",
              "  <tbody>\n",
              "    <tr>\n",
              "      <th>0</th>\n",
              "      <td>2023-03-19</td>\n",
              "    </tr>\n",
              "    <tr>\n",
              "      <th>1</th>\n",
              "      <td>2023-03-26</td>\n",
              "    </tr>\n",
              "    <tr>\n",
              "      <th>2</th>\n",
              "      <td>2023-04-02</td>\n",
              "    </tr>\n",
              "  </tbody>\n",
              "</table>\n",
              "</div>\n",
              "    <div class=\"colab-df-buttons\">\n",
              "\n",
              "  <div class=\"colab-df-container\">\n",
              "    <button class=\"colab-df-convert\" onclick=\"convertToInteractive('df-29173996-8bec-49a0-8f31-b0a165976208')\"\n",
              "            title=\"Convert this dataframe to an interactive table.\"\n",
              "            style=\"display:none;\">\n",
              "\n",
              "  <svg xmlns=\"http://www.w3.org/2000/svg\" height=\"24px\" viewBox=\"0 -960 960 960\">\n",
              "    <path d=\"M120-120v-720h720v720H120Zm60-500h600v-160H180v160Zm220 220h160v-160H400v160Zm0 220h160v-160H400v160ZM180-400h160v-160H180v160Zm440 0h160v-160H620v160ZM180-180h160v-160H180v160Zm440 0h160v-160H620v160Z\"/>\n",
              "  </svg>\n",
              "    </button>\n",
              "\n",
              "  <style>\n",
              "    .colab-df-container {\n",
              "      display:flex;\n",
              "      gap: 12px;\n",
              "    }\n",
              "\n",
              "    .colab-df-convert {\n",
              "      background-color: #E8F0FE;\n",
              "      border: none;\n",
              "      border-radius: 50%;\n",
              "      cursor: pointer;\n",
              "      display: none;\n",
              "      fill: #1967D2;\n",
              "      height: 32px;\n",
              "      padding: 0 0 0 0;\n",
              "      width: 32px;\n",
              "    }\n",
              "\n",
              "    .colab-df-convert:hover {\n",
              "      background-color: #E2EBFA;\n",
              "      box-shadow: 0px 1px 2px rgba(60, 64, 67, 0.3), 0px 1px 3px 1px rgba(60, 64, 67, 0.15);\n",
              "      fill: #174EA6;\n",
              "    }\n",
              "\n",
              "    .colab-df-buttons div {\n",
              "      margin-bottom: 4px;\n",
              "    }\n",
              "\n",
              "    [theme=dark] .colab-df-convert {\n",
              "      background-color: #3B4455;\n",
              "      fill: #D2E3FC;\n",
              "    }\n",
              "\n",
              "    [theme=dark] .colab-df-convert:hover {\n",
              "      background-color: #434B5C;\n",
              "      box-shadow: 0px 1px 3px 1px rgba(0, 0, 0, 0.15);\n",
              "      filter: drop-shadow(0px 1px 2px rgba(0, 0, 0, 0.3));\n",
              "      fill: #FFFFFF;\n",
              "    }\n",
              "  </style>\n",
              "\n",
              "    <script>\n",
              "      const buttonEl =\n",
              "        document.querySelector('#df-29173996-8bec-49a0-8f31-b0a165976208 button.colab-df-convert');\n",
              "      buttonEl.style.display =\n",
              "        google.colab.kernel.accessAllowed ? 'block' : 'none';\n",
              "\n",
              "      async function convertToInteractive(key) {\n",
              "        const element = document.querySelector('#df-29173996-8bec-49a0-8f31-b0a165976208');\n",
              "        const dataTable =\n",
              "          await google.colab.kernel.invokeFunction('convertToInteractive',\n",
              "                                                    [key], {});\n",
              "        if (!dataTable) return;\n",
              "\n",
              "        const docLinkHtml = 'Like what you see? Visit the ' +\n",
              "          '<a target=\"_blank\" href=https://colab.research.google.com/notebooks/data_table.ipynb>data table notebook</a>'\n",
              "          + ' to learn more about interactive tables.';\n",
              "        element.innerHTML = '';\n",
              "        dataTable['output_type'] = 'display_data';\n",
              "        await google.colab.output.renderOutput(dataTable, element);\n",
              "        const docLink = document.createElement('div');\n",
              "        docLink.innerHTML = docLinkHtml;\n",
              "        element.appendChild(docLink);\n",
              "      }\n",
              "    </script>\n",
              "  </div>\n",
              "\n",
              "\n",
              "<div id=\"df-b08d0a26-50a2-470c-ab00-fc5839b299c9\">\n",
              "  <button class=\"colab-df-quickchart\" onclick=\"quickchart('df-b08d0a26-50a2-470c-ab00-fc5839b299c9')\"\n",
              "            title=\"Suggest charts.\"\n",
              "            style=\"display:none;\">\n",
              "\n",
              "<svg xmlns=\"http://www.w3.org/2000/svg\" height=\"24px\"viewBox=\"0 0 24 24\"\n",
              "     width=\"24px\">\n",
              "    <g>\n",
              "        <path d=\"M19 3H5c-1.1 0-2 .9-2 2v14c0 1.1.9 2 2 2h14c1.1 0 2-.9 2-2V5c0-1.1-.9-2-2-2zM9 17H7v-7h2v7zm4 0h-2V7h2v10zm4 0h-2v-4h2v4z\"/>\n",
              "    </g>\n",
              "</svg>\n",
              "  </button>\n",
              "\n",
              "<style>\n",
              "  .colab-df-quickchart {\n",
              "      --bg-color: #E8F0FE;\n",
              "      --fill-color: #1967D2;\n",
              "      --hover-bg-color: #E2EBFA;\n",
              "      --hover-fill-color: #174EA6;\n",
              "      --disabled-fill-color: #AAA;\n",
              "      --disabled-bg-color: #DDD;\n",
              "  }\n",
              "\n",
              "  [theme=dark] .colab-df-quickchart {\n",
              "      --bg-color: #3B4455;\n",
              "      --fill-color: #D2E3FC;\n",
              "      --hover-bg-color: #434B5C;\n",
              "      --hover-fill-color: #FFFFFF;\n",
              "      --disabled-bg-color: #3B4455;\n",
              "      --disabled-fill-color: #666;\n",
              "  }\n",
              "\n",
              "  .colab-df-quickchart {\n",
              "    background-color: var(--bg-color);\n",
              "    border: none;\n",
              "    border-radius: 50%;\n",
              "    cursor: pointer;\n",
              "    display: none;\n",
              "    fill: var(--fill-color);\n",
              "    height: 32px;\n",
              "    padding: 0;\n",
              "    width: 32px;\n",
              "  }\n",
              "\n",
              "  .colab-df-quickchart:hover {\n",
              "    background-color: var(--hover-bg-color);\n",
              "    box-shadow: 0 1px 2px rgba(60, 64, 67, 0.3), 0 1px 3px 1px rgba(60, 64, 67, 0.15);\n",
              "    fill: var(--button-hover-fill-color);\n",
              "  }\n",
              "\n",
              "  .colab-df-quickchart-complete:disabled,\n",
              "  .colab-df-quickchart-complete:disabled:hover {\n",
              "    background-color: var(--disabled-bg-color);\n",
              "    fill: var(--disabled-fill-color);\n",
              "    box-shadow: none;\n",
              "  }\n",
              "\n",
              "  .colab-df-spinner {\n",
              "    border: 2px solid var(--fill-color);\n",
              "    border-color: transparent;\n",
              "    border-bottom-color: var(--fill-color);\n",
              "    animation:\n",
              "      spin 1s steps(1) infinite;\n",
              "  }\n",
              "\n",
              "  @keyframes spin {\n",
              "    0% {\n",
              "      border-color: transparent;\n",
              "      border-bottom-color: var(--fill-color);\n",
              "      border-left-color: var(--fill-color);\n",
              "    }\n",
              "    20% {\n",
              "      border-color: transparent;\n",
              "      border-left-color: var(--fill-color);\n",
              "      border-top-color: var(--fill-color);\n",
              "    }\n",
              "    30% {\n",
              "      border-color: transparent;\n",
              "      border-left-color: var(--fill-color);\n",
              "      border-top-color: var(--fill-color);\n",
              "      border-right-color: var(--fill-color);\n",
              "    }\n",
              "    40% {\n",
              "      border-color: transparent;\n",
              "      border-right-color: var(--fill-color);\n",
              "      border-top-color: var(--fill-color);\n",
              "    }\n",
              "    60% {\n",
              "      border-color: transparent;\n",
              "      border-right-color: var(--fill-color);\n",
              "    }\n",
              "    80% {\n",
              "      border-color: transparent;\n",
              "      border-right-color: var(--fill-color);\n",
              "      border-bottom-color: var(--fill-color);\n",
              "    }\n",
              "    90% {\n",
              "      border-color: transparent;\n",
              "      border-bottom-color: var(--fill-color);\n",
              "    }\n",
              "  }\n",
              "</style>\n",
              "\n",
              "  <script>\n",
              "    async function quickchart(key) {\n",
              "      const quickchartButtonEl =\n",
              "        document.querySelector('#' + key + ' button');\n",
              "      quickchartButtonEl.disabled = true;  // To prevent multiple clicks.\n",
              "      quickchartButtonEl.classList.add('colab-df-spinner');\n",
              "      try {\n",
              "        const charts = await google.colab.kernel.invokeFunction(\n",
              "            'suggestCharts', [key], {});\n",
              "      } catch (error) {\n",
              "        console.error('Error during call to suggestCharts:', error);\n",
              "      }\n",
              "      quickchartButtonEl.classList.remove('colab-df-spinner');\n",
              "      quickchartButtonEl.classList.add('colab-df-quickchart-complete');\n",
              "    }\n",
              "    (() => {\n",
              "      let quickchartButtonEl =\n",
              "        document.querySelector('#df-b08d0a26-50a2-470c-ab00-fc5839b299c9 button');\n",
              "      quickchartButtonEl.style.display =\n",
              "        google.colab.kernel.accessAllowed ? 'block' : 'none';\n",
              "    })();\n",
              "  </script>\n",
              "</div>\n",
              "    </div>\n",
              "  </div>\n"
            ]
          },
          "metadata": {},
          "execution_count": 14
        }
      ],
      "source": [
        "data_tv_air.head(3)"
      ]
    },
    {
      "cell_type": "code",
      "execution_count": 15,
      "metadata": {
        "id": "mXcfquYdSQQP"
      },
      "outputs": [],
      "source": [
        "mask1 = df.date.min()\n",
        "mask2 = df.date.max()"
      ]
    },
    {
      "cell_type": "code",
      "execution_count": 99,
      "metadata": {
        "id": "My9KNnpvSpHP"
      },
      "outputs": [],
      "source": [
        "data_tv_filter = data_tv_air[(data_tv_air['date'] >= mask1)&(data_tv_air['date'] <= mask2)].reset_index(drop=True)"
      ]
    },
    {
      "cell_type": "code",
      "source": [
        "data_tv_filter.iloc[0,0]\n"
      ],
      "metadata": {
        "colab": {
          "base_uri": "https://localhost:8080/"
        },
        "id": "v3o4pvl-vuY5",
        "outputId": "b5b1c8f0-f574-4b21-90d6-a09e91465f54"
      },
      "execution_count": 104,
      "outputs": [
        {
          "output_type": "execute_result",
          "data": {
            "text/plain": [
              "Timestamp('2016-09-25 00:00:00')"
            ]
          },
          "metadata": {},
          "execution_count": 104
        }
      ]
    },
    {
      "cell_type": "code",
      "source": [
        "date_start = data_tv_filter['date'].min()\n",
        "date_stop = data_tv_filter['date'].min()"
      ],
      "metadata": {
        "id": "p9g8v_jmuSxo"
      },
      "execution_count": 18,
      "outputs": []
    },
    {
      "cell_type": "markdown",
      "source": [
        "# СТАТИСТИЧЕСКИЕ ТЕСТЫ"
      ],
      "metadata": {
        "id": "hWa0cL81seY1"
      }
    },
    {
      "cell_type": "code",
      "source": [
        "df_pivot = pd.pivot_table(df,\n",
        "               index=[\"date\"],\n",
        "               values=[\"receipts_count\"],\n",
        "               columns=[\"brand_id\"],\n",
        "               aggfunc = ('sum'),\n",
        "              margins = True)\n",
        "df_pivot.columns = ['Lipton', 'Ahmad', 'May', 'All']\n",
        "df_pivot.drop(labels = ['All'], axis =0, inplace = True)"
      ],
      "metadata": {
        "id": "hJaafYcN2720"
      },
      "execution_count": 45,
      "outputs": []
    },
    {
      "cell_type": "code",
      "execution_count": 46,
      "metadata": {
        "id": "fH-GPh1FXKJC",
        "colab": {
          "base_uri": "https://localhost:8080/"
        },
        "outputId": "531313ad-6530-4b63-bdd1-064cd29d0fdc"
      },
      "outputs": [
        {
          "output_type": "execute_result",
          "data": {
            "text/plain": [
              "DatetimeIndex(['2016-07-01', '2016-07-02', '2016-07-03', '2016-07-04',\n",
              "               '2016-07-05', '2016-07-06', '2016-07-07', '2016-07-08',\n",
              "               '2016-07-09', '2016-07-10',\n",
              "               ...\n",
              "               '2016-11-21', '2016-11-22', '2016-11-23', '2016-11-24',\n",
              "               '2016-11-25', '2016-11-26', '2016-11-27', '2016-11-28',\n",
              "               '2016-11-29', '2016-11-30'],\n",
              "              dtype='datetime64[ns]', name='date', length=153, freq=None)"
            ]
          },
          "metadata": {},
          "execution_count": 46
        }
      ],
      "source": [
        "df_pivot.index = pd.to_datetime(df_pivot.index)\n",
        "df_pivot.index"
      ]
    },
    {
      "cell_type": "code",
      "source": [
        "# разделим выборку на продажи до начала рекламной компании и после\n",
        "df_before = df_pivot[df_pivot.index < date_start]\n",
        "df_after = df_pivot[df_pivot.index >= date_start]"
      ],
      "metadata": {
        "id": "cjpMyDF-slDR"
      },
      "execution_count": 47,
      "outputs": []
    },
    {
      "cell_type": "code",
      "source": [
        "df_before.shape"
      ],
      "metadata": {
        "colab": {
          "base_uri": "https://localhost:8080/"
        },
        "id": "8vvWFDFqMt6R",
        "outputId": "ed0d02c1-b7c8-492a-ff5c-02ed97c83af5"
      },
      "execution_count": 54,
      "outputs": [
        {
          "output_type": "execute_result",
          "data": {
            "text/plain": [
              "(86, 4)"
            ]
          },
          "metadata": {},
          "execution_count": 54
        }
      ]
    },
    {
      "cell_type": "code",
      "source": [
        "df_after.shape"
      ],
      "metadata": {
        "colab": {
          "base_uri": "https://localhost:8080/"
        },
        "id": "qBuxRPZRMy2B",
        "outputId": "609a191d-071d-4c59-9be9-9043d448dce3"
      },
      "execution_count": 55,
      "outputs": [
        {
          "output_type": "execute_result",
          "data": {
            "text/plain": [
              "(67, 4)"
            ]
          },
          "metadata": {},
          "execution_count": 55
        }
      ]
    },
    {
      "cell_type": "code",
      "source": [
        "df_before.head()\n"
      ],
      "metadata": {
        "colab": {
          "base_uri": "https://localhost:8080/",
          "height": 238
        },
        "id": "vxb3-6D8sdYV",
        "outputId": "a2740b3d-431a-48c7-a6a0-34d907f4f587"
      },
      "execution_count": 48,
      "outputs": [
        {
          "output_type": "execute_result",
          "data": {
            "text/plain": [
              "            Lipton  Ahmad  May   All\n",
              "date                                \n",
              "2016-07-01     622    234   98   954\n",
              "2016-07-02     580    185   87   852\n",
              "2016-07-03     687    190  105   982\n",
              "2016-07-04     550    196  141   887\n",
              "2016-07-05     529    336  137  1002"
            ],
            "text/html": [
              "\n",
              "  <div id=\"df-9870904b-86e1-404a-b129-b8913b145920\" class=\"colab-df-container\">\n",
              "    <div>\n",
              "<style scoped>\n",
              "    .dataframe tbody tr th:only-of-type {\n",
              "        vertical-align: middle;\n",
              "    }\n",
              "\n",
              "    .dataframe tbody tr th {\n",
              "        vertical-align: top;\n",
              "    }\n",
              "\n",
              "    .dataframe thead th {\n",
              "        text-align: right;\n",
              "    }\n",
              "</style>\n",
              "<table border=\"1\" class=\"dataframe\">\n",
              "  <thead>\n",
              "    <tr style=\"text-align: right;\">\n",
              "      <th></th>\n",
              "      <th>Lipton</th>\n",
              "      <th>Ahmad</th>\n",
              "      <th>May</th>\n",
              "      <th>All</th>\n",
              "    </tr>\n",
              "    <tr>\n",
              "      <th>date</th>\n",
              "      <th></th>\n",
              "      <th></th>\n",
              "      <th></th>\n",
              "      <th></th>\n",
              "    </tr>\n",
              "  </thead>\n",
              "  <tbody>\n",
              "    <tr>\n",
              "      <th>2016-07-01</th>\n",
              "      <td>622</td>\n",
              "      <td>234</td>\n",
              "      <td>98</td>\n",
              "      <td>954</td>\n",
              "    </tr>\n",
              "    <tr>\n",
              "      <th>2016-07-02</th>\n",
              "      <td>580</td>\n",
              "      <td>185</td>\n",
              "      <td>87</td>\n",
              "      <td>852</td>\n",
              "    </tr>\n",
              "    <tr>\n",
              "      <th>2016-07-03</th>\n",
              "      <td>687</td>\n",
              "      <td>190</td>\n",
              "      <td>105</td>\n",
              "      <td>982</td>\n",
              "    </tr>\n",
              "    <tr>\n",
              "      <th>2016-07-04</th>\n",
              "      <td>550</td>\n",
              "      <td>196</td>\n",
              "      <td>141</td>\n",
              "      <td>887</td>\n",
              "    </tr>\n",
              "    <tr>\n",
              "      <th>2016-07-05</th>\n",
              "      <td>529</td>\n",
              "      <td>336</td>\n",
              "      <td>137</td>\n",
              "      <td>1002</td>\n",
              "    </tr>\n",
              "  </tbody>\n",
              "</table>\n",
              "</div>\n",
              "    <div class=\"colab-df-buttons\">\n",
              "\n",
              "  <div class=\"colab-df-container\">\n",
              "    <button class=\"colab-df-convert\" onclick=\"convertToInteractive('df-9870904b-86e1-404a-b129-b8913b145920')\"\n",
              "            title=\"Convert this dataframe to an interactive table.\"\n",
              "            style=\"display:none;\">\n",
              "\n",
              "  <svg xmlns=\"http://www.w3.org/2000/svg\" height=\"24px\" viewBox=\"0 -960 960 960\">\n",
              "    <path d=\"M120-120v-720h720v720H120Zm60-500h600v-160H180v160Zm220 220h160v-160H400v160Zm0 220h160v-160H400v160ZM180-400h160v-160H180v160Zm440 0h160v-160H620v160ZM180-180h160v-160H180v160Zm440 0h160v-160H620v160Z\"/>\n",
              "  </svg>\n",
              "    </button>\n",
              "\n",
              "  <style>\n",
              "    .colab-df-container {\n",
              "      display:flex;\n",
              "      gap: 12px;\n",
              "    }\n",
              "\n",
              "    .colab-df-convert {\n",
              "      background-color: #E8F0FE;\n",
              "      border: none;\n",
              "      border-radius: 50%;\n",
              "      cursor: pointer;\n",
              "      display: none;\n",
              "      fill: #1967D2;\n",
              "      height: 32px;\n",
              "      padding: 0 0 0 0;\n",
              "      width: 32px;\n",
              "    }\n",
              "\n",
              "    .colab-df-convert:hover {\n",
              "      background-color: #E2EBFA;\n",
              "      box-shadow: 0px 1px 2px rgba(60, 64, 67, 0.3), 0px 1px 3px 1px rgba(60, 64, 67, 0.15);\n",
              "      fill: #174EA6;\n",
              "    }\n",
              "\n",
              "    .colab-df-buttons div {\n",
              "      margin-bottom: 4px;\n",
              "    }\n",
              "\n",
              "    [theme=dark] .colab-df-convert {\n",
              "      background-color: #3B4455;\n",
              "      fill: #D2E3FC;\n",
              "    }\n",
              "\n",
              "    [theme=dark] .colab-df-convert:hover {\n",
              "      background-color: #434B5C;\n",
              "      box-shadow: 0px 1px 3px 1px rgba(0, 0, 0, 0.15);\n",
              "      filter: drop-shadow(0px 1px 2px rgba(0, 0, 0, 0.3));\n",
              "      fill: #FFFFFF;\n",
              "    }\n",
              "  </style>\n",
              "\n",
              "    <script>\n",
              "      const buttonEl =\n",
              "        document.querySelector('#df-9870904b-86e1-404a-b129-b8913b145920 button.colab-df-convert');\n",
              "      buttonEl.style.display =\n",
              "        google.colab.kernel.accessAllowed ? 'block' : 'none';\n",
              "\n",
              "      async function convertToInteractive(key) {\n",
              "        const element = document.querySelector('#df-9870904b-86e1-404a-b129-b8913b145920');\n",
              "        const dataTable =\n",
              "          await google.colab.kernel.invokeFunction('convertToInteractive',\n",
              "                                                    [key], {});\n",
              "        if (!dataTable) return;\n",
              "\n",
              "        const docLinkHtml = 'Like what you see? Visit the ' +\n",
              "          '<a target=\"_blank\" href=https://colab.research.google.com/notebooks/data_table.ipynb>data table notebook</a>'\n",
              "          + ' to learn more about interactive tables.';\n",
              "        element.innerHTML = '';\n",
              "        dataTable['output_type'] = 'display_data';\n",
              "        await google.colab.output.renderOutput(dataTable, element);\n",
              "        const docLink = document.createElement('div');\n",
              "        docLink.innerHTML = docLinkHtml;\n",
              "        element.appendChild(docLink);\n",
              "      }\n",
              "    </script>\n",
              "  </div>\n",
              "\n",
              "\n",
              "<div id=\"df-caf0a636-43bc-4ef6-933b-5772ab9c398b\">\n",
              "  <button class=\"colab-df-quickchart\" onclick=\"quickchart('df-caf0a636-43bc-4ef6-933b-5772ab9c398b')\"\n",
              "            title=\"Suggest charts.\"\n",
              "            style=\"display:none;\">\n",
              "\n",
              "<svg xmlns=\"http://www.w3.org/2000/svg\" height=\"24px\"viewBox=\"0 0 24 24\"\n",
              "     width=\"24px\">\n",
              "    <g>\n",
              "        <path d=\"M19 3H5c-1.1 0-2 .9-2 2v14c0 1.1.9 2 2 2h14c1.1 0 2-.9 2-2V5c0-1.1-.9-2-2-2zM9 17H7v-7h2v7zm4 0h-2V7h2v10zm4 0h-2v-4h2v4z\"/>\n",
              "    </g>\n",
              "</svg>\n",
              "  </button>\n",
              "\n",
              "<style>\n",
              "  .colab-df-quickchart {\n",
              "      --bg-color: #E8F0FE;\n",
              "      --fill-color: #1967D2;\n",
              "      --hover-bg-color: #E2EBFA;\n",
              "      --hover-fill-color: #174EA6;\n",
              "      --disabled-fill-color: #AAA;\n",
              "      --disabled-bg-color: #DDD;\n",
              "  }\n",
              "\n",
              "  [theme=dark] .colab-df-quickchart {\n",
              "      --bg-color: #3B4455;\n",
              "      --fill-color: #D2E3FC;\n",
              "      --hover-bg-color: #434B5C;\n",
              "      --hover-fill-color: #FFFFFF;\n",
              "      --disabled-bg-color: #3B4455;\n",
              "      --disabled-fill-color: #666;\n",
              "  }\n",
              "\n",
              "  .colab-df-quickchart {\n",
              "    background-color: var(--bg-color);\n",
              "    border: none;\n",
              "    border-radius: 50%;\n",
              "    cursor: pointer;\n",
              "    display: none;\n",
              "    fill: var(--fill-color);\n",
              "    height: 32px;\n",
              "    padding: 0;\n",
              "    width: 32px;\n",
              "  }\n",
              "\n",
              "  .colab-df-quickchart:hover {\n",
              "    background-color: var(--hover-bg-color);\n",
              "    box-shadow: 0 1px 2px rgba(60, 64, 67, 0.3), 0 1px 3px 1px rgba(60, 64, 67, 0.15);\n",
              "    fill: var(--button-hover-fill-color);\n",
              "  }\n",
              "\n",
              "  .colab-df-quickchart-complete:disabled,\n",
              "  .colab-df-quickchart-complete:disabled:hover {\n",
              "    background-color: var(--disabled-bg-color);\n",
              "    fill: var(--disabled-fill-color);\n",
              "    box-shadow: none;\n",
              "  }\n",
              "\n",
              "  .colab-df-spinner {\n",
              "    border: 2px solid var(--fill-color);\n",
              "    border-color: transparent;\n",
              "    border-bottom-color: var(--fill-color);\n",
              "    animation:\n",
              "      spin 1s steps(1) infinite;\n",
              "  }\n",
              "\n",
              "  @keyframes spin {\n",
              "    0% {\n",
              "      border-color: transparent;\n",
              "      border-bottom-color: var(--fill-color);\n",
              "      border-left-color: var(--fill-color);\n",
              "    }\n",
              "    20% {\n",
              "      border-color: transparent;\n",
              "      border-left-color: var(--fill-color);\n",
              "      border-top-color: var(--fill-color);\n",
              "    }\n",
              "    30% {\n",
              "      border-color: transparent;\n",
              "      border-left-color: var(--fill-color);\n",
              "      border-top-color: var(--fill-color);\n",
              "      border-right-color: var(--fill-color);\n",
              "    }\n",
              "    40% {\n",
              "      border-color: transparent;\n",
              "      border-right-color: var(--fill-color);\n",
              "      border-top-color: var(--fill-color);\n",
              "    }\n",
              "    60% {\n",
              "      border-color: transparent;\n",
              "      border-right-color: var(--fill-color);\n",
              "    }\n",
              "    80% {\n",
              "      border-color: transparent;\n",
              "      border-right-color: var(--fill-color);\n",
              "      border-bottom-color: var(--fill-color);\n",
              "    }\n",
              "    90% {\n",
              "      border-color: transparent;\n",
              "      border-bottom-color: var(--fill-color);\n",
              "    }\n",
              "  }\n",
              "</style>\n",
              "\n",
              "  <script>\n",
              "    async function quickchart(key) {\n",
              "      const quickchartButtonEl =\n",
              "        document.querySelector('#' + key + ' button');\n",
              "      quickchartButtonEl.disabled = true;  // To prevent multiple clicks.\n",
              "      quickchartButtonEl.classList.add('colab-df-spinner');\n",
              "      try {\n",
              "        const charts = await google.colab.kernel.invokeFunction(\n",
              "            'suggestCharts', [key], {});\n",
              "      } catch (error) {\n",
              "        console.error('Error during call to suggestCharts:', error);\n",
              "      }\n",
              "      quickchartButtonEl.classList.remove('colab-df-spinner');\n",
              "      quickchartButtonEl.classList.add('colab-df-quickchart-complete');\n",
              "    }\n",
              "    (() => {\n",
              "      let quickchartButtonEl =\n",
              "        document.querySelector('#df-caf0a636-43bc-4ef6-933b-5772ab9c398b button');\n",
              "      quickchartButtonEl.style.display =\n",
              "        google.colab.kernel.accessAllowed ? 'block' : 'none';\n",
              "    })();\n",
              "  </script>\n",
              "</div>\n",
              "    </div>\n",
              "  </div>\n"
            ]
          },
          "metadata": {},
          "execution_count": 48
        }
      ]
    },
    {
      "cell_type": "code",
      "source": [
        "import scipy.stats as stats\n",
        "\n",
        "def test_shapiro(data, alpha = 0.05):\n",
        "  # проводим тест Шапиро — Уилка\n",
        "  _, p = stats.shapiro(data)\n",
        "  print('p-value = %.3f' % (p))\n",
        "  # интерпретируем результат\n",
        "  if p <= alpha:\n",
        "      print('Распределение не нормальное')\n",
        "  else:\n",
        "      print('Распределение нормальное')"
      ],
      "metadata": {
        "id": "_yAAd4-0wmHJ"
      },
      "execution_count": 37,
      "outputs": []
    },
    {
      "cell_type": "markdown",
      "source": [
        "## Тест на равенство средних"
      ],
      "metadata": {
        "id": "NyYDDzXIGuMD"
      }
    },
    {
      "cell_type": "markdown",
      "source": [
        "Будем исходить из предположения, что реклама чая \"Ахмад\" действует на покупателя всё время после начала рекламной компании.  \n",
        "Поэтому разделим выборку на 2 части до старта рекламы и после старта рекламы.   \n",
        "Продажи даны в натуральных величинах(коробках?), будем считать что они стоят одинаково."
      ],
      "metadata": {
        "id": "FeF84KCcIbJY"
      }
    },
    {
      "cell_type": "code",
      "source": [
        "test_shapiro(df_before['Ahmad'])"
      ],
      "metadata": {
        "colab": {
          "base_uri": "https://localhost:8080/"
        },
        "id": "Q1x5IGo6zW8s",
        "outputId": "bdb1cc20-1b70-4a32-c0c2-4e68d4ec28d9"
      },
      "execution_count": 51,
      "outputs": [
        {
          "output_type": "stream",
          "name": "stdout",
          "text": [
            "p-value = 0.000\n",
            "Распределение не нормальное\n"
          ]
        }
      ]
    },
    {
      "cell_type": "code",
      "source": [
        "test_shapiro(df_after['Ahmad'])"
      ],
      "metadata": {
        "colab": {
          "base_uri": "https://localhost:8080/"
        },
        "id": "Nw0-MO_H00Wh",
        "outputId": "3ba30609-e104-4742-db07-105cf0a42679"
      },
      "execution_count": 52,
      "outputs": [
        {
          "output_type": "stream",
          "name": "stdout",
          "text": [
            "p-value = 0.000\n",
            "Распределение не нормальное\n"
          ]
        }
      ]
    },
    {
      "cell_type": "markdown",
      "source": [
        "Вывод: Т.к. данные распределены не нормально, а выборки зависимы, то для определения наличия различий этих выборок нам подойдёт Критерий Уилкинсона.\n",
        "\n",
        "Т.к. нас интересует выше ли стали продажи, используем левосторонюю ('less')альтернативную гипотезу.\n",
        "\n",
        "Сформулируем гипотезы в математическом виде:\n",
        "\n",
        "**Нулевая гипотеза:** среднее количество проданных коробок чая 'Ahmad' до и после рекламной компании одинаковы, влияния рекламы на распределение нет.  \n",
        "**Альтернативная гипотеза:** среднее количество проданных коробок чая 'Ahmad' до и после рекламной компании различны, влияние рекламы на распределение есть, продажи стали выше."
      ],
      "metadata": {
        "id": "9I89FN8GGiBz"
      }
    },
    {
      "cell_type": "code",
      "source": [
        "length = df_after['Ahmad'].shape[0]\n",
        "column = df_after.columns.get_loc('Ahmad')\n",
        "ahmad_before = df_before.iloc[:length, column]\n",
        "print(df_after['Ahmad'].shape)\n",
        "print(ahmad_before.shape)\n"
      ],
      "metadata": {
        "colab": {
          "base_uri": "https://localhost:8080/"
        },
        "id": "aJgBow_zPIRW",
        "outputId": "b7a21ece-16ca-438c-92c9-ce39b6514612"
      },
      "execution_count": 65,
      "outputs": [
        {
          "output_type": "stream",
          "name": "stdout",
          "text": [
            "(67,)\n",
            "(67,)\n"
          ]
        }
      ]
    },
    {
      "cell_type": "code",
      "source": [
        "from pandas.core.indexers import length_of_indexer\n",
        "import scipy.stats as stats\n",
        "\n",
        "# задаём уровень значимости\n",
        "alpha = 0.05\n",
        "\n",
        "# создаем выборки\n",
        "length = df_after['Ahmad'].shape[0]\n",
        "column = df_after.columns.get_loc('Ahmad')\n",
        "ahmad_before = df_before.iloc[:length, column]\n",
        "\n",
        "# проводим тест\n",
        "_, p = stats.wilcoxon(ahmad_before, df_after['Ahmad'], alternative = 'less')\n",
        "\n",
        "print('p-value = {:.3f}'.format(p))\n",
        "\n",
        "# интерпретируем результат\n",
        "if p <= alpha:\n",
        "    print('p-значение меньше, чем заданный уровень значимости {:.2f}. Отвергаем нулевую гипотезу.'.format(alpha))\n",
        "else:\n",
        "    print('p-значение больше, чем заданный уровень значимости {:.2f}. У нас нет оснований отвергнуть нулевую гипотезу.'.format(alpha))\n",
        "\n",
        "# p-value = 0.000\n",
        "# p-значение меньше, чем заданный уровень значимости 0.05. Отвергаем нулевую гипотезу.\n",
        "# Вывод: время получения ответа через чат-бота меньше, чем через звонок оператору."
      ],
      "metadata": {
        "colab": {
          "base_uri": "https://localhost:8080/"
        },
        "id": "Ic1YyFzIL3eQ",
        "outputId": "6aa5d448-052d-4f8d-b403-d8260e77ea49"
      },
      "execution_count": 66,
      "outputs": [
        {
          "output_type": "stream",
          "name": "stdout",
          "text": [
            "p-value = 0.020\n",
            "p-значение меньше, чем заданный уровень значимости 0.05. Отвергаем нулевую гипотезу.\n"
          ]
        }
      ]
    },
    {
      "cell_type": "markdown",
      "source": [
        "Продажи чая Ахмад до рекламной компании меньше, чем после неё."
      ],
      "metadata": {
        "id": "f_KIXuQLQn-k"
      }
    },
    {
      "cell_type": "markdown",
      "source": [
        "## Тест на равенство средних"
      ],
      "metadata": {
        "id": "_PJpFWaKfmTe"
      }
    },
    {
      "cell_type": "markdown",
      "source": [
        "Помимо теста на средние продажи зададимся вопросом изменилась ли доля продаж чая \"Ахмад\" по сравнению с конкурентами. Стала ли она выше?\n",
        "\n"
      ],
      "metadata": {
        "id": "IftGbVn2Rs7N"
      }
    },
    {
      "cell_type": "code",
      "source": [
        "# подготовим данные\n",
        "df_before.loc[:, 'Ahmad_part'] = df_before.loc[:, 'Ahmad']/df_before.loc[:, 'All']\n",
        "df_after.loc[:, 'Ahmad_part'] = df_after.loc[:, 'Ahmad']/df_after.loc[:, 'All']"
      ],
      "metadata": {
        "colab": {
          "base_uri": "https://localhost:8080/"
        },
        "id": "1aTVsIUXRsDd",
        "outputId": "3d4df142-fc7e-45ba-d7a8-bb046bac5387"
      },
      "execution_count": 76,
      "outputs": [
        {
          "output_type": "stream",
          "name": "stderr",
          "text": [
            "<ipython-input-76-da4f3959c808>:2: SettingWithCopyWarning: \n",
            "A value is trying to be set on a copy of a slice from a DataFrame.\n",
            "Try using .loc[row_indexer,col_indexer] = value instead\n",
            "\n",
            "See the caveats in the documentation: https://pandas.pydata.org/pandas-docs/stable/user_guide/indexing.html#returning-a-view-versus-a-copy\n",
            "  df_before.loc[:, 'Ahmad_part'] = df_before.loc[:, 'Ahmad']/df_before.loc[:, 'All']\n",
            "<ipython-input-76-da4f3959c808>:3: SettingWithCopyWarning: \n",
            "A value is trying to be set on a copy of a slice from a DataFrame.\n",
            "Try using .loc[row_indexer,col_indexer] = value instead\n",
            "\n",
            "See the caveats in the documentation: https://pandas.pydata.org/pandas-docs/stable/user_guide/indexing.html#returning-a-view-versus-a-copy\n",
            "  df_after.loc[:, 'Ahmad_part'] = df_after.loc[:, 'Ahmad']/df_after.loc[:, 'All']\n"
          ]
        }
      ]
    },
    {
      "cell_type": "code",
      "source": [
        "df_before.info()"
      ],
      "metadata": {
        "colab": {
          "base_uri": "https://localhost:8080/"
        },
        "id": "DA0TuIC3W4Qt",
        "outputId": "22a7c21f-cbb5-46d4-e44f-7172d4c42c69"
      },
      "execution_count": 78,
      "outputs": [
        {
          "output_type": "stream",
          "name": "stdout",
          "text": [
            "<class 'pandas.core.frame.DataFrame'>\n",
            "DatetimeIndex: 86 entries, 2016-07-01 to 2016-09-24\n",
            "Data columns (total 5 columns):\n",
            " #   Column      Non-Null Count  Dtype  \n",
            "---  ------      --------------  -----  \n",
            " 0   Lipton      86 non-null     int64  \n",
            " 1   Ahmad       86 non-null     int64  \n",
            " 2   May         86 non-null     int64  \n",
            " 3   All         86 non-null     int64  \n",
            " 4   Ahmad_part  86 non-null     float64\n",
            "dtypes: float64(1), int64(4)\n",
            "memory usage: 4.0 KB\n"
          ]
        }
      ]
    },
    {
      "cell_type": "markdown",
      "source": [
        "### Тест на нормальность"
      ],
      "metadata": {
        "id": "tRGbUOrNfYX0"
      }
    },
    {
      "cell_type": "code",
      "source": [
        "test_shapiro(df_before['Ahmad_part'])"
      ],
      "metadata": {
        "colab": {
          "base_uri": "https://localhost:8080/"
        },
        "id": "5b1IPYveggoE",
        "outputId": "23f27835-cfbb-4fe1-bd64-f916c3489713"
      },
      "execution_count": 83,
      "outputs": [
        {
          "output_type": "stream",
          "name": "stdout",
          "text": [
            "p-value = 0.002\n",
            "Распределение не нормальное\n"
          ]
        }
      ]
    },
    {
      "cell_type": "code",
      "source": [
        "test_shapiro(df_after['Ahmad_part'])"
      ],
      "metadata": {
        "colab": {
          "base_uri": "https://localhost:8080/"
        },
        "id": "6rCG6X8thDy2",
        "outputId": "773c3155-d6d9-448f-e014-36e72166b970"
      },
      "execution_count": 84,
      "outputs": [
        {
          "output_type": "stream",
          "name": "stdout",
          "text": [
            "p-value = 0.024\n",
            "Распределение не нормальное\n"
          ]
        }
      ]
    },
    {
      "cell_type": "markdown",
      "source": [
        "Вывод: Т.к. данные распределены не нормально, а выборки зависимы, то для определения наличия различий этих выборок нам подойдёт Критерий Уилкинсона.\n",
        "\n",
        "Т.к. нас интересует выше ли стала доля продаж, используем левосторонюю ('less')альтернативную гипотезу.\n",
        "\n",
        "Сформулируем гипотезы в математическом виде:\n",
        "\n",
        "Нулевая гипотеза:  доля проданных коробок чая 'Ahmad' по српавнению с конкурентами до и после рекламной компании одинаковы, влияния рекламы на распределение нет.\n",
        "Альтернативная гипотеза: доля проданных коробок чая 'Ahmad' до и после рекламной компании различны, влияние рекламы на распределение есть, доля стала выше."
      ],
      "metadata": {
        "id": "0C5tO7Z6ibo2"
      }
    },
    {
      "cell_type": "code",
      "source": [
        "length = df_after['Ahmad'].shape[0]\n",
        "column = df_after.columns.get_loc('Ahmad')\n",
        "ahmad_before = df_before.iloc[:length, column]\n",
        "print(df_after['Ahmad'].shape)\n",
        "print(ahmad_before.shape)"
      ],
      "metadata": {
        "colab": {
          "base_uri": "https://localhost:8080/"
        },
        "id": "728VSFL5hdzT",
        "outputId": "c90910e8-3346-4ea6-fc8d-b1e2c048369f"
      },
      "execution_count": 85,
      "outputs": [
        {
          "output_type": "stream",
          "name": "stdout",
          "text": [
            "(67,)\n",
            "(67,)\n"
          ]
        }
      ]
    },
    {
      "cell_type": "code",
      "source": [
        "# создаем выборки\n",
        "length = df_after['Ahmad_part'].shape[0]\n",
        "column = df_after.columns.get_loc('Ahmad_part')\n",
        "ahmad_before = df_before.iloc[:length, column]\n",
        "\n",
        "# проводим тест\n",
        "_, p = stats.wilcoxon(ahmad_before, df_after['Ahmad_part'], alternative = 'less')\n",
        "\n",
        "print('p-value = {:.3f}'.format(p))\n",
        "\n",
        "# интерпретируем результат\n",
        "if p <= alpha:\n",
        "    print('p-значение меньше, чем заданный уровень значимости {:.2f}. Отвергаем нулевую гипотезу.'.format(alpha))\n",
        "else:\n",
        "    print('p-значение больше, чем заданный уровень значимости {:.2f}. У нас нет оснований отвергнуть нулевую гипотезу.'.format(alpha))\n",
        "\n",
        "# p-value = 0.000\n",
        "# p-значение меньше, чем заданный уровень значимости 0.05. Отвергаем нулевую гипотезу.\n",
        "# Вывод: время получения ответа через чат-бота меньше, чем через звонок оператору."
      ],
      "metadata": {
        "colab": {
          "base_uri": "https://localhost:8080/"
        },
        "id": "I57UqcT4hoIG",
        "outputId": "fbb9051c-74be-4705-9ef4-7127439d9d34"
      },
      "execution_count": 86,
      "outputs": [
        {
          "output_type": "stream",
          "name": "stdout",
          "text": [
            "p-value = 0.289\n",
            "p-значение больше, чем заданный уровень значимости 0.05. У нас нет оснований отвергнуть нулевую гипотезу.\n"
          ]
        }
      ]
    },
    {
      "cell_type": "markdown",
      "source": [
        "Вывод: Статистически значимого изменения доли продаж не выявлено."
      ],
      "metadata": {
        "id": "kr0vUq_Ri3Rj"
      }
    },
    {
      "cell_type": "markdown",
      "source": [
        "Дальнейшее исследование необходимо,чтобы выявить кратковременные всплески продаж, которые мы будетектировать как аномалии и сопоставить эти всплески и даты выходы рекламы. Чем ближе аномалия к этой дате тем вероятнее её влияние на продажи.\n",
        "\n",
        "Начнем с поиска аномалий с помощью формулы Тьюки"
      ],
      "metadata": {
        "id": "lmgRflLtjEIO"
      }
    },
    {
      "cell_type": "code",
      "source": [
        "# подготовим данные\n",
        "df_pivot.loc[:,'Ahmad_part'] = df_pivot.loc[:,'Ahmad']/df_pivot.loc[:,'All']"
      ],
      "metadata": {
        "id": "vTuNwA81kul8"
      },
      "execution_count": 87,
      "outputs": []
    },
    {
      "cell_type": "code",
      "source": [
        "def outliers_iqr(data, feature):\n",
        "    x = data[feature]\n",
        "    quartile_1, quartile_3 = x.quantile(0.25), x.quantile(0.75),\n",
        "    iqr = quartile_3 - quartile_1\n",
        "    lower_bound = quartile_1 - (iqr * 1.5)\n",
        "    upper_bound = quartile_3 + (iqr * 1.5)\n",
        "    outliers = data[(x < lower_bound) | (x > upper_bound)]\n",
        "    cleaned = data[(x >= lower_bound) & (x <= upper_bound)]\n",
        "    return outliers, cleaned"
      ],
      "metadata": {
        "id": "7W2Jh1T5t1qG"
      },
      "execution_count": null,
      "outputs": []
    },
    {
      "cell_type": "code",
      "source": [
        "# начнем с абсолютных продаж\n",
        "outliers_abs, cleaned = outliers_iqr(df_pivot, 'Ahmad')\n",
        "print('Абсолютные продажи')\n",
        "print(f'Число выбросов по методу Тьюки: {outliers_abs.shape[0]}')\n",
        "print(outliers_abs)\n",
        "print(f'Результирующее число записей: {cleaned.shape[0]}')\n",
        "def nearest(outliers, adv_list, treshold = 3):\n",
        "  list_near = []\n",
        "  for i in range(0,len(adv_list)):\n",
        "    near_day = min(outliers.index, key=lambda x: x-adv_list.iloc[i,0])\n",
        "    count_day = (near_day - adv_list.iloc[i,0])/np.timedelta64 ( 1 , 'D')\n",
        "    if (count_day <= treshold) and (count_day >= 0):\n",
        "      list_near.append((outliers.index, near_day, count_day))\n",
        "  return list_near\n",
        "\n",
        "\n",
        "print(nearest(outliers_abs, data_tv_filter))\n",
        "\n",
        "# теперь доля продаж\n",
        "outliers_rel, cleaned = outliers_iqr(df_pivot, 'Ahmad_part')\n",
        "print('\\nДоля продаж')\n",
        "print(f'Число выбросов по методу Тьюки: {outliers_rel.shape[0]}')\n",
        "print(f'Результирующее число записей: {cleaned.shape[0]}')"
      ],
      "metadata": {
        "colab": {
          "base_uri": "https://localhost:8080/"
        },
        "id": "aoow-30KjCUM",
        "outputId": "b0bea045-e423-4187-c9b3-23e96244e7ab"
      },
      "execution_count": 122,
      "outputs": [
        {
          "output_type": "stream",
          "name": "stdout",
          "text": [
            "Абсолютные продажи\n",
            "Число выбросов по методу Тьюки: 3\n",
            "            Lipton  Ahmad  May   All  Ahmad_part\n",
            "date                                            \n",
            "2016-10-31     496    677  255  1428    0.474090\n",
            "2016-11-09     372    708  357  1437    0.492693\n",
            "2016-11-10     381    712  349  1442    0.493759\n",
            "Результирующее число записей: 150\n",
            "[]\n",
            "\n",
            "Доля продаж\n",
            "Число выбросов по методу Тьюки: 0\n",
            "Результирующее число записей: 153\n"
          ]
        }
      ]
    },
    {
      "cell_type": "markdown",
      "source": [
        "Выводы перекликаются с предыдущими."
      ],
      "metadata": {
        "id": "qo8XF4Gbo1AP"
      }
    },
    {
      "cell_type": "markdown",
      "metadata": {
        "id": "Bl4-qqR2VGAd"
      },
      "source": [
        "# Временной ряд\n",
        "Построена модель, предсказывающая значение временного ряда продаж. Показано, что нет положительного misprediction."
      ]
    },
    {
      "cell_type": "code",
      "source": [
        "#создадим датафрейм, в который мы будем накапливать временные ряды по странам для анализа корреляций между ними\n",
        "df_corr = pd.DataFrame()\n",
        "#зададим размер графика\n",
        "plt.rcParams['figure.figsize'] = [20, 4]\n",
        "#создадим объект фигуры\n",
        "fig = plt.figure()\n",
        "ax = plt.subplot(111)\n",
        "# создадим список брендов и общий\n",
        "list_brand = df_pivot[['Ahmad', 'All']]\n",
        "# в цикле нанесем на график продажи в по брендам\n",
        "for brand in list_brand:\n",
        "  # сделаем срез данных по бренду\n",
        "  df_for_plot = df_pivot[brand]\n",
        "  # проводим нормализацию данных\n",
        "  df_sales = df_for_plot/df_for_plot.sum()*100\n",
        "  # производим декомпозицию временного ряда, устраним недельный тренд\n",
        "  decomposition = seasonal_decompose(df_sales)\n",
        "  # удаляем пропуски\n",
        "  trend7 = decomposition.observed.dropna()\n",
        "  # добавим данные в датафрейм для последующего анализа корреляций\n",
        "  df_corr[brand] = trend7\n",
        "  # добавим график на фигуру\n",
        "  # fig, ax = plt.subplots()\n",
        "  blue_line = mlines.Line2D([], [], color='blue', label='Ahmad')\n",
        "  orange_line = mlines.Line2D([], [], color='orange', label='All')\n",
        "  black_line = mlines.Line2D([], [], color='black', label='Point_of_adv')\n",
        "  # Заголовок таблицы\n",
        "  plt.title(\"Данные о продажах чая\")\n",
        "  # Подписи осей\n",
        "  plt.xlabel(\"Даты продаж\")\n",
        "  plt.ylabel(\"Доля от всех продаж за период, %\")\n",
        "  plt.plot(trend7)\n",
        "  ax.legend(handles=[blue_line, orange_line, black_line], loc ='upper left')\n",
        "  ax.vlines(data_tv_filter['date'], 0, df_sales.max(),colors='black')\n",
        "\n"
      ],
      "metadata": {
        "colab": {
          "base_uri": "https://localhost:8080/",
          "height": 402
        },
        "id": "MvLxkAQ6CQlB",
        "outputId": "6ef23612-be78-49b9-fb13-7cde8a5b645a"
      },
      "execution_count": 150,
      "outputs": [
        {
          "output_type": "display_data",
          "data": {
            "text/plain": [
              "<Figure size 2000x400 with 1 Axes>"
            ],
            "image/png": "[encoded data removed]"
          },
          "metadata": {}
        }
      ]
    },
    {
      "cell_type": "code",
      "execution_count": 124,
      "metadata": {
        "id": "Kk3vQW6vaXjT",
        "colab": {
          "base_uri": "https://localhost:8080/",
          "height": 373
        },
        "outputId": "fb62511e-db9a-4655-8a0d-eac696b74e2e"
      },
      "outputs": [
        {
          "output_type": "display_data",
          "data": {
            "text/plain": [
              "<Figure size 1500x400 with 1 Axes>"
            ],
            "image/png": "[encoded data removed]"
          },
          "metadata": {}
        }
      ],
      "source": [
        "#создадим датафрейм, в который мы будем накапливать временные ряды по странам для анализа корреляций между ними\n",
        "df_corr = pd.DataFrame()\n",
        "#зададим размер графика\n",
        "plt.rcParams['figure.figsize'] = [15, 4]\n",
        "#создадим объект фигуры\n",
        "fig = plt.figure()\n",
        "ax = plt.subplot(111)\n",
        "# создадим список брендов и общий\n",
        "list_brand = df_pivot.col['brand_id'].unique()\n",
        "# в цикле нанесем на график продажи в по брендам\n",
        "for brand in list_brand:\n",
        "  # сделаем срез данных по бренду\n",
        "  df_for_plot = df[df['brand_id'] == brand ]\n",
        "  # проводим нормализацию данных\n",
        "  df_sales = (df_for_plot['receipts_count'].groupby(df_for_plot.index).agg('sum').round(2)/df_for_plot['receipts_count'].sum())*100\n",
        "  # производим декомпозицию временного ряда, устраним недельный тренд\n",
        "  decomposition = seasonal_decompose(df_sales, period = 7)\n",
        "  # удаляем пропуски\n",
        "  trend7 = decomposition.trend.dropna()\n",
        "  # добавим данные в датафрейм для последующего анализа корреляций\n",
        "  df_corr[brand] = trend7\n",
        "  # добавим график на фигуру\n",
        "  plt.plot(trend7)\n",
        "\n",
        "fig, ax = plt.subplots()\n",
        "blue_line = mlines.Line2D([], [], color='blue', label='Blue stars')\n",
        "red_line = mlines.Line2D([], [], color='blue', label='Blue stars')\n",
        "green_line = mlines.Line2D([], [], color='blue', label='Blue stars')\n",
        "black_line = mlines.Line2D([], [], color='blue', label='Blue stars')\n",
        "ax.legend(handles=[blue_line])\n",
        "\n",
        "plt.show()\n"
      ]
    },
    {
      "cell_type": "code",
      "execution_count": null,
      "metadata": {
        "id": "Rb8oZSYdWVKm"
      },
      "outputs": [],
      "source": [
        "df[df['brand_id'] == 29]['receipts_count'].plot()"
      ]
    },
    {
      "cell_type": "code",
      "execution_count": null,
      "metadata": {
        "id": "bGCpGwRgWkua"
      },
      "outputs": [],
      "source": []
    }
  ],
  "metadata": {
    "colab": {
      "provenance": [],
      "authorship_tag": "ABX9TyOgaIANkfhOZh0+KfrDpNZ9",
      "include_colab_link": true
    },
    "kernelspec": {
      "display_name": "Python 3",
      "name": "python3"
    },
    "language_info": {
      "name": "python"
    }
  },
  "nbformat": 4,
  "nbformat_minor": 0
}